{
 "cells": [
  {
   "cell_type": "code",
   "execution_count": 9,
   "metadata": {},
   "outputs": [],
   "source": [
    "from fastapi_mail import ConnectionConfig\n",
    "from fastapi_mail import FastMail, MessageSchema\n",
    "\n",
    "conf = ConnectionConfig(\n",
    "   MAIL_USERNAME=\"hr@cinqubit.com\",\n",
    "   MAIL_PASSWORD='Hr@123456',\n",
    "   MAIL_PORT=587,\n",
    "   MAIL_SERVER=\"smtp.cinqubit.com\",\n",
    "   MAIL_FROM=\"hr@cinqubit.com\",\n",
    "   MAIL_FROM_NAME=\"Cinqubit HR\",\n",
    "   MAIL_STARTTLS = True,\n",
    "   MAIL_SSL_TLS = False,\n",
    "   USE_CREDENTIALS = True,\n",
    "   VALIDATE_CERTS = True\n",
    ")\n",
    "\n"
   ]
  },
  {
   "cell_type": "code",
   "execution_count": 10,
   "metadata": {},
   "outputs": [],
   "source": [
    "client = FastMail(conf)"
   ]
  },
  {
   "cell_type": "code",
   "execution_count": 11,
   "metadata": {},
   "outputs": [],
   "source": [
    "subject = \"Test Email\"\n",
    "to = \"muhammadmeeran2003@gmail.com\"\n",
    "content = \"This is a test email\"\n",
    "\n",
    "schema = MessageSchema(\n",
    "    subject=subject,\n",
    "    recipients=[to],\n",
    "    body=content,\n",
    "    subtype=\"plain\"\n",
    ")"
   ]
  },
  {
   "cell_type": "code",
   "execution_count": 12,
   "metadata": {},
   "outputs": [],
   "source": [
    "await client.send_message(schema)"
   ]
  },
  {
   "cell_type": "code",
   "execution_count": null,
   "metadata": {},
   "outputs": [],
   "source": []
  }
 ],
 "metadata": {
  "kernelspec": {
   "display_name": "env",
   "language": "python",
   "name": "python3"
  },
  "language_info": {
   "codemirror_mode": {
    "name": "ipython",
    "version": 3
   },
   "file_extension": ".py",
   "mimetype": "text/x-python",
   "name": "python",
   "nbconvert_exporter": "python",
   "pygments_lexer": "ipython3",
   "version": "3.12.2"
  }
 },
 "nbformat": 4,
 "nbformat_minor": 2
}
